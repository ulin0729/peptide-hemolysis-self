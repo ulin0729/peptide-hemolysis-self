{
 "cells": [
  {
   "cell_type": "code",
   "execution_count": 4,
   "metadata": {},
   "outputs": [],
   "source": [
    "import numpy as np\n",
    "import pandas as pd\n",
    "import sklearn\n",
    "from sklearn.metrics import precision_score, accuracy_score\n",
    "from tqdm import trange\n",
    "import pickle\n",
    "import math"
   ]
  },
  {
   "cell_type": "code",
   "execution_count": 5,
   "metadata": {},
   "outputs": [],
   "source": [
    "def same_seed(seed): \n",
    "    '''Fixes random number generator seeds for reproducibility.'''\n",
    "    np.random.seed(seed)\n",
    "\n",
    "def amino_encode_table_6(): # key: Amino Acid, value: tensor\n",
    "    df = pd.read_csv('./6-pc', sep=' ', index_col=0)\n",
    "    H1 = (df['H1'] - np.mean(df['H1'])) / (np.std(df['H1'], ddof=1))\n",
    "    V = (df['V'] - np.mean(df['V'])) / (np.std(df['V'], ddof=1))\n",
    "    P1 = (df['P1'] - np.mean(df['P1'])) / (np.std(df['P1'], ddof=1))\n",
    "    Pl = (df['Pl'] - np.mean(df['Pl'])) / (np.std(df['Pl'], ddof=1))\n",
    "    PKa = (df['PKa'] - np.mean(df['PKa'])) / (np.std(df['PKa'], ddof=1))\n",
    "    NCI = (df['NCI'] - np.mean(df['NCI'])) / (np.std(df['NCI'], ddof=1))\n",
    "    c = np.array([H1,V,P1,Pl,PKa,NCI], dtype=np.float32)\n",
    "    amino = ['A','C','D','E','F','G','H','I','K','L','M','N','P','Q','R','S','T','V','W','Y']\n",
    "    table = {}\n",
    "    for index,key in enumerate(amino):\n",
    "        # table[key] = torch.from_numpy(c[0:6, index])\n",
    "        table[key] = list(c[0:6, index])\n",
    "    table['X'] = [0,0,0,0,0,0]\n",
    "    return table\n",
    "\n",
    "table = amino_encode_table_6()\n",
    "# with open('pc6.pickle', 'wb') as handle:\n",
    "#     pickle.dump(table, handle, protocol=pickle.HIGHEST_PROTOCOL)\n",
    "\n",
    "def padding_seq(original_seq, length=50, pad_value='X'):\n",
    "    padded_seq = original_seq.ljust(length, pad_value)\n",
    "    return padded_seq\n",
    "\n",
    "def seq_to_features_ml(seq, conc):\n",
    "    features_list = []\n",
    "    for aa in seq:\n",
    "        t = table[aa].copy()\n",
    "        t.append(conc)\n",
    "        features_list += t\n",
    "    feature_tensor = np.array(features_list, dtype=np.float32)\n",
    "    return feature_tensor\n",
    "\n",
    "seed = 10902128+8403014\n"
   ]
  },
  {
   "cell_type": "code",
   "execution_count": 6,
   "metadata": {},
   "outputs": [
    {
     "name": "stderr",
     "output_type": "stream",
     "text": [
      " 11%|█         | 1/9 [03:31<28:08, 211.01s/it]"
     ]
    },
    {
     "name": "stdout",
     "output_type": "stream",
     "text": [
      "Threshold 10 Best acc: 0.8431372549019608, prec: 0.8548387096774194\n",
      "['rf', 'ada', 'xgb']\n"
     ]
    },
    {
     "name": "stderr",
     "output_type": "stream",
     "text": [
      " 22%|██▏       | 2/9 [06:31<22:32, 193.19s/it]"
     ]
    },
    {
     "name": "stdout",
     "output_type": "stream",
     "text": [
      "Threshold 20 Best acc: 0.8273092369477911, prec: 0.8416666666666667\n",
      "['svc', 'rf', 'knn']\n"
     ]
    },
    {
     "name": "stderr",
     "output_type": "stream",
     "text": [
      " 33%|███▎      | 3/9 [09:33<18:46, 187.79s/it]"
     ]
    },
    {
     "name": "stdout",
     "output_type": "stream",
     "text": [
      "Threshold 30 Best acc: 0.8347826086956521, prec: 0.808\n",
      "['svc', 'rf', 'xgb']\n"
     ]
    },
    {
     "name": "stderr",
     "output_type": "stream",
     "text": [
      " 44%|████▍     | 4/9 [12:25<15:09, 181.80s/it]"
     ]
    },
    {
     "name": "stdout",
     "output_type": "stream",
     "text": [
      "Threshold 40 Best acc: 0.8136363636363636, prec: 0.822429906542056\n",
      "['rf']\n"
     ]
    },
    {
     "name": "stderr",
     "output_type": "stream",
     "text": [
      " 56%|█████▌    | 5/9 [13:20<09:03, 135.84s/it]"
     ]
    },
    {
     "name": "stdout",
     "output_type": "stream",
     "text": [
      "Threshold 50 Best acc: 0.8387096774193549, prec: 0.8888888888888888\n",
      "['rf', 'xgb']\n"
     ]
    },
    {
     "name": "stderr",
     "output_type": "stream",
     "text": [
      " 67%|██████▋   | 6/9 [14:14<05:24, 108.10s/it]"
     ]
    },
    {
     "name": "stdout",
     "output_type": "stream",
     "text": [
      "Threshold 60 Best acc: 0.75, prec: 0.782608695652174\n",
      "['rf', 'ada', 'mlp', 'knn']\n"
     ]
    },
    {
     "name": "stderr",
     "output_type": "stream",
     "text": [
      " 78%|███████▊  | 7/9 [14:54<02:52, 86.04s/it] "
     ]
    },
    {
     "name": "stdout",
     "output_type": "stream",
     "text": [
      "Threshold 70 Best acc: 0.8, prec: 0.7916666666666666\n",
      "['svc', 'rf', 'knn']\n"
     ]
    },
    {
     "name": "stderr",
     "output_type": "stream",
     "text": [
      " 89%|████████▉ | 8/9 [15:34<01:11, 71.22s/it]"
     ]
    },
    {
     "name": "stdout",
     "output_type": "stream",
     "text": [
      "Threshold 80 Best acc: 0.6486486486486487, prec: 0.6666666666666666\n",
      "['rf', 'ada', 'knn']\n"
     ]
    },
    {
     "name": "stderr",
     "output_type": "stream",
     "text": [
      "100%|██████████| 9/9 [16:16<00:00, 108.48s/it]"
     ]
    },
    {
     "name": "stdout",
     "output_type": "stream",
     "text": [
      "Threshold 90 Best acc: 0.7407407407407407, prec: 0.6842105263157895\n",
      "['knn']\n"
     ]
    },
    {
     "name": "stderr",
     "output_type": "stream",
     "text": [
      "\n"
     ]
    }
   ],
   "source": [
    "for threshold in trange(10, 100, 10):\n",
    "    df = pd.read_parquet(f'./train{threshold}.parquet')\n",
    "    Y = df['label'].to_numpy(dtype=int)\n",
    "    X = np.array([]).reshape(0,350)\n",
    "    for i, row in df.iterrows():\n",
    "        X = np.vstack([X,seq_to_features_ml(padding_seq(row['sequence']), row['concentration'])])\n",
    "        \n",
    "    test_df = pd.read_parquet(f'./valid{threshold}.parquet')\n",
    "    test_Y = test_df['label'].to_numpy(dtype=int)\n",
    "    test_X = np.array([]).reshape(0,350)\n",
    "    for i, row in test_df.iterrows():\n",
    "        test_X = np.vstack([test_X,seq_to_features_ml(padding_seq(row['sequence']), row['concentration'])])\n",
    "\n",
    "    from sklearn import svm\n",
    "    svc_clf = svm.SVC(random_state=seed)\n",
    "\n",
    "    from sklearn.ensemble import RandomForestClassifier\n",
    "    rf_clf = RandomForestClassifier(random_state=seed)\n",
    "\n",
    "    from sklearn.ensemble import AdaBoostClassifier\n",
    "    ada_clf = AdaBoostClassifier(random_state=seed)\n",
    "\n",
    "    from sklearn.neural_network import MLPClassifier\n",
    "    mlp_clf = MLPClassifier(max_iter=5000, random_state=seed)\n",
    "\n",
    "    from sklearn.neighbors import KNeighborsClassifier\n",
    "    knn_clf = KNeighborsClassifier()\n",
    "\n",
    "    import xgboost as xgb\n",
    "    xgb_clf = xgb.XGBClassifier(random_state=seed)\n",
    "\n",
    "    from sklearn.ensemble import VotingClassifier\n",
    "    from sklearn import model_selection\n",
    "    from itertools import chain, combinations\n",
    "    def powerset(s :list):\n",
    "        return chain.from_iterable(combinations(s, r) for r in range(len(s)+1))\n",
    "\n",
    "    max_acc = -math.inf\n",
    "    max_prec = -math.inf\n",
    "    best_choices = []\n",
    "    all_estimators = [('svc',svc_clf), ('rf',rf_clf), ('ada',ada_clf), ('mlp',mlp_clf), ('knn',knn_clf), ('xgb',xgb_clf)]\n",
    "    for estimators in list(powerset(all_estimators))[1:]:\n",
    "        estimators = list(estimators)\n",
    "        ensemble = VotingClassifier(estimators)\n",
    "        ensemble.fit(X,Y)\n",
    "        ensembled = ensemble.predict(test_X)\n",
    "        if accuracy_score(test_Y, ensembled) > max_acc:\n",
    "            max_acc = accuracy_score(test_Y, ensembled)\n",
    "            max_prec = precision_score(test_Y, ensembled)\n",
    "            best_choices = estimators\n",
    "            pickle.dump(ensemble, open(f'{threshold}_clf.pickle', 'wb'))\n",
    "\n",
    "    print(f'Threshold {threshold} Best acc: {max_acc}, prec: {max_prec}')\n",
    "    print([x[0] for x in best_choices])"
   ]
  },
  {
   "cell_type": "code",
   "execution_count": 7,
   "metadata": {},
   "outputs": [],
   "source": [
    "# threshold=10: final acc: 0.8196078431372549,  prec: 0.8660714285714286    (rf, xgb)\n",
    "# threshold=20: final acc: 0.8072289156626506,  prec: 0.8347826086956521    (rf)\n",
    "# threshold=30: final acc: 0.8347826086956521,  prec: 0.8130081300813008    (svm, rf, xgb)\n",
    "# threshold=40: final acc: 0.8136363636363636,  prec: 0.8285714285714286    (rf)\n",
    "# threshold=50: final acc: 0.8387096774193549,  prec: 0.8888888888888888    (rf, xgb)\n",
    "# threshold=60: final acc: 0.7115384615384616,  prec: 0.72                  (rf, xgb)\n",
    "# threshold=70: final acc: 0.8222222222222222,  prec: 0.8260869565217391    (svm, knn, rf, ada)\n",
    "# threshold=80: final acc: 0.8095238095238095,  prec: 0.8095238095238095    (All without mlp, svm)\n",
    "# threshold=90: final acc: 0.8387096774193549,  prec: 0.9166666666666666    (Only xgb, ada)"
   ]
  },
  {
   "cell_type": "code",
   "execution_count": 8,
   "metadata": {},
   "outputs": [],
   "source": [
    "# Threshold 10 Best acc: 0.8431372549019608, prec: 0.8548387096774194\n",
    "# ['rf', 'ada', 'xgb']\n",
    "# Threshold 20 Best acc: 0.8273092369477911, prec: 0.8416666666666667\n",
    "# ['svc', 'rf', 'knn']\n",
    "# Threshold 30 Best acc: 0.8347826086956521, prec: 0.808\n",
    "# ['svc', 'rf', 'xgb']\n",
    "# Threshold 40 Best acc: 0.8136363636363636, prec: 0.822429906542056\n",
    "# ['rf']\n",
    "# Threshold 50 Best acc: 0.8387096774193549, prec: 0.8888888888888888\n",
    "# ['rf', 'xgb']\n",
    "# Threshold 60 Best acc: 0.75, prec: 0.782608695652174\n",
    "# ['rf', 'ada', 'mlp', 'knn']\n",
    "# Threshold 70 Best acc: 0.8, prec: 0.7916666666666666\n",
    "# ['svc', 'rf', 'knn']\n",
    "# Threshold 80 Best acc: 0.6486486486486487, prec: 0.6666666666666666\n",
    "# ['rf', 'ada', 'knn']\n",
    "# Threshold 90 Best acc: 0.7407407407407407, prec: 0.6842105263157895\n",
    "# ['knn']"
   ]
  }
 ],
 "metadata": {
  "kernelspec": {
   "display_name": "rnn3.8",
   "language": "python",
   "name": "python3"
  },
  "language_info": {
   "codemirror_mode": {
    "name": "ipython",
    "version": 3
   },
   "file_extension": ".py",
   "mimetype": "text/x-python",
   "name": "python",
   "nbconvert_exporter": "python",
   "pygments_lexer": "ipython3",
   "version": "3.8.10"
  },
  "orig_nbformat": 4,
  "vscode": {
   "interpreter": {
    "hash": "8b87982f3cdd64d668def9f44dd8c1e15bd569e114e664211accac6f077b24d9"
   }
  }
 },
 "nbformat": 4,
 "nbformat_minor": 2
}
